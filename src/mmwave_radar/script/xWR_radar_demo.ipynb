{
 "cells": [
  {
   "cell_type": "code",
   "execution_count": 19,
   "metadata": {},
   "outputs": [],
   "source": [
    "import serial, time"
   ]
  },
  {
   "cell_type": "code",
   "execution_count": 28,
   "metadata": {},
   "outputs": [
    {
     "name": "stdout",
     "output_type": "stream",
     "text": [
      "Sending /home/dingrong/Code/DCA1000/mmwave_radar/src/mmwave_adc_data/config/xwr18xx.cfg to xWR on /dev/ttyACM1\n",
      ">>> sensorStop\n",
      ">>> flushCfg\n",
      ">>> dfeDataOutputMode 1\n",
      ">>> channelCfg 15 7 0\n",
      ">>> adcCfg 2 1\n",
      ">>> adcbufCfg -1 0 1 1 1\n",
      ">>> profileCfg 0 77 267 7 57.14 0 0 70 1 256 5209 0 0 30\n",
      ">>> chirpCfg 0 0 0 0 0 0 0 1\n",
      ">>> chirpCfg 1 1 0 0 0 0 0 4\n",
      ">>> chirpCfg 2 2 0 0 0 0 0 2\n",
      ">>> frameCfg 0 2 16 0 100 1 0\n",
      ">>> lowPower 0 0\n",
      ">>> guiMonitor -1 1 0 0 0 0 0\n",
      ">>> cfarCfg -1 0 2 8 4 3 0 15 1\n",
      ">>> cfarCfg -1 1 0 4 2 3 1 15 1\n",
      ">>> multiObjBeamForming -1 1 0.5\n",
      ">>> clutterRemoval -1 0\n",
      ">>> calibDcRangeSig -1 0 -5 8 256\n",
      ">>> extendedMaxVelocity -1 0\n",
      ">>> lvdsStreamCfg -1 0 1 0\n",
      ">>> compRangeBiasAndRxChanPhase 0.0 1 0 1 0 1 0 1 0 1 0 1 0 1 0 1 0 1 0 1 0 1 0 1 0\n",
      ">>> measureRangeBiasAndRxChanPhase 0 1.5 0.2\n",
      ">>> CQRxSatMonitor 0 3 5 121 0\n",
      ">>> CQSigImgMonitor 0 127 4\n",
      ">>> analogMonitor 0 0\n",
      ">>> aoaFovCfg -1 -90 90 -90 90\n",
      ">>> cfarFovCfg -1 0 0 8.92\n",
      ">>> cfarFovCfg -1 1 -1 1.00\n",
      ">>> calibData 0 0 0\n"
     ]
    }
   ],
   "source": [
    "# Configure xWR by serial port\n",
    "serial_port_CLI = '/dev/ttyACM0'\n",
    "file_cfg = '/home/dingrong/Code/DCA1000/DCA1000-source-code/src/mmwave_radar/config/xwr18xx.cfg'\n",
    "CLIport = serial.Serial(serial_port_CLI, 115200, timeout=1)\n",
    "if CLIport.is_open:\n",
    "    config = [line.rstrip('\\r\\n') for line in open(file_cfg)]\n",
    "    for i in config:\n",
    "        if(i == '' or i[0] == '%'):\n",
    "            continue\n",
    "        if(i == 'sensorStart'):\n",
    "            break\n",
    "        CLIport.write((i+'\\n').encode())\n",
    "        print('>>> ' + i)\n",
    "        time.sleep(0.01)\n",
    "else:\n",
    "    print(\"Open serial port failed.\")"
   ]
  },
  {
   "cell_type": "code",
   "execution_count": 29,
   "metadata": {},
   "outputs": [
    {
     "name": "stdout",
     "output_type": "stream",
     "text": [
      ">>> sensorStart\n"
     ]
    }
   ],
   "source": [
    "CLIport.write(('sensorStart\\n').encode())\n",
    "print('>>> sensorStart')"
   ]
  },
  {
   "cell_type": "code",
   "execution_count": 30,
   "metadata": {},
   "outputs": [
    {
     "name": "stdout",
     "output_type": "stream",
     "text": [
      ">>> sensorStop\n"
     ]
    }
   ],
   "source": [
    "CLIport.write(('sensorStop\\n').encode())\n",
    "print('>>> sensorStop')"
   ]
  },
  {
   "cell_type": "code",
   "execution_count": 5,
   "metadata": {},
   "outputs": [],
   "source": [
    "import numpy as np"
   ]
  },
  {
   "cell_type": "code",
   "execution_count": 6,
   "metadata": {},
   "outputs": [],
   "source": [
    "test = np.fromfile(\"/home/dingrong/Code/DCA1000/SourceCode/Release/Data/adc_data_Raw_0.bin\", np.int16)"
   ]
  },
  {
   "cell_type": "code",
   "execution_count": 7,
   "metadata": {},
   "outputs": [
    {
     "data": {
      "text/plain": [
       "(983040,)"
      ]
     },
     "execution_count": 7,
     "metadata": {},
     "output_type": "execute_result"
    }
   ],
   "source": [
    "test.shape"
   ]
  },
  {
   "cell_type": "code",
   "execution_count": 8,
   "metadata": {},
   "outputs": [
    {
     "data": {
      "text/plain": [
       "(4, 245760)"
      ]
     },
     "execution_count": 8,
     "metadata": {},
     "output_type": "execute_result"
    }
   ],
   "source": [
    "test2 = test.reshape(4, -1)\n",
    "test2.shape"
   ]
  },
  {
   "cell_type": "code",
   "execution_count": 32,
   "metadata": {},
   "outputs": [
    {
     "data": {
      "text/plain": [
       "(2, 14848)"
      ]
     },
     "execution_count": 32,
     "metadata": {},
     "output_type": "execute_result"
    }
   ],
   "source": [
    "test3 = test2[[0, 1], :]\n",
    "test3.shape"
   ]
  },
  {
   "cell_type": "code",
   "execution_count": 8,
   "metadata": {},
   "outputs": [
    {
     "name": "stdout",
     "output_type": "stream",
     "text": [
      "bytes per frame: 196608\n",
      "bytes per chirp: 1024\n"
     ]
    }
   ],
   "source": [
    "# 每帧16个chirp，每个chirp 256个sample，每个sample有2个整数，每个整数有2个字节，共有3个tx发射信号，4个rx\n",
    "print(\"bytes per frame:\", 16*256*2*2*3*4)\n",
    "print(\"bytes per chirp:\", 256*2*2)\n"
   ]
  },
  {
   "cell_type": "code",
   "execution_count": 9,
   "metadata": {},
   "outputs": [
    {
     "data": {
      "text/plain": [
       "0.1884765625"
      ]
     },
     "execution_count": 9,
     "metadata": {},
     "output_type": "execute_result"
    }
   ],
   "source": [
    "(196608 + 1024)/1024/1024"
   ]
  },
  {
   "cell_type": "code",
   "execution_count": 10,
   "metadata": {},
   "outputs": [
    {
     "data": {
      "text/plain": [
       "0.1875"
      ]
     },
     "execution_count": 10,
     "metadata": {},
     "output_type": "execute_result"
    }
   ],
   "source": [
    "196608 / 1024 / 1024"
   ]
  },
  {
   "cell_type": "code",
   "execution_count": 15,
   "metadata": {},
   "outputs": [
    {
     "data": {
      "text/plain": [
       "180.72916666666666"
      ]
     },
     "execution_count": 15,
     "metadata": {},
     "output_type": "execute_result"
    }
   ],
   "source": [
    "35532800 / 196608"
   ]
  },
  {
   "cell_type": "code",
   "execution_count": 24,
   "metadata": {},
   "outputs": [
    {
     "data": {
      "text/plain": [
       "76.0"
      ]
     },
     "execution_count": 24,
     "metadata": {},
     "output_type": "execute_result"
    }
   ],
   "source": [
    "(196608 - 118784)/1024"
   ]
  },
  {
   "cell_type": "code",
   "execution_count": null,
   "metadata": {},
   "outputs": [],
   "source": []
  }
 ],
 "metadata": {
  "kernelspec": {
   "display_name": "Python 3",
   "language": "python",
   "name": "python3"
  },
  "language_info": {
   "codemirror_mode": {
    "name": "ipython",
    "version": 3
   },
   "file_extension": ".py",
   "mimetype": "text/x-python",
   "name": "python",
   "nbconvert_exporter": "python",
   "pygments_lexer": "ipython3",
   "version": "3.6.9"
  },
  "orig_nbformat": 4
 },
 "nbformat": 4,
 "nbformat_minor": 2
}
